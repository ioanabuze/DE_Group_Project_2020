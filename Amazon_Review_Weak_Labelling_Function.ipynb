{
  "nbformat": 4,
  "nbformat_minor": 0,
  "metadata": {
    "colab": {
      "name": "Amazon Review Weak Labelling Function.ipynb",
      "provenance": [],
      "collapsed_sections": [
        "YVJUDtU4DaBW"
      ],
      "include_colab_link": true
    },
    "kernelspec": {
      "name": "python3",
      "display_name": "Python 3"
    }
  },
  "cells": [
    {
      "cell_type": "markdown",
      "metadata": {
        "id": "view-in-github",
        "colab_type": "text"
      },
      "source": [
        "<a href=\"https://colab.research.google.com/github/ioanabuze/DE_Group_Project_2020/blob/master/Amazon_Review_Weak_Labelling_Function.ipynb\" target=\"_parent\"><img src=\"https://colab.research.google.com/assets/colab-badge.svg\" alt=\"Open In Colab\"/></a>"
      ]
    },
    {
      "cell_type": "markdown",
      "metadata": {
        "colab_type": "text",
        "id": "YVJUDtU4DaBW"
      },
      "source": [
        "## 1. Loading Data, Installing Libraries and Setup"
      ]
    },
    {
      "cell_type": "code",
      "metadata": {
        "id": "Op4NrVQn2vk6",
        "colab_type": "code",
        "colab": {}
      },
      "source": [
        "# Code here to push the Notebook to Git"
      ],
      "execution_count": 0,
      "outputs": []
    },
    {
      "cell_type": "code",
      "metadata": {
        "colab_type": "code",
        "id": "1jDKaB7F3yJ0",
        "outputId": "b884bc70-8362-4794-a3af-b3e31fbd369e",
        "colab": {
          "base_uri": "https://localhost:8080/",
          "height": 306
        }
      },
      "source": [
        "!pip install snorkel"
      ],
      "execution_count": 0,
      "outputs": [
        {
          "output_type": "stream",
          "text": [
            "Requirement already satisfied: snorkel in /usr/local/lib/python3.6/dist-packages (0.9.3)\n",
            "Requirement already satisfied: tensorboardX<2.0,>=1.6 in /usr/local/lib/python3.6/dist-packages (from snorkel) (1.9)\n",
            "Requirement already satisfied: networkx<2.4,>=2.2 in /usr/local/lib/python3.6/dist-packages (from snorkel) (2.3)\n",
            "Requirement already satisfied: torch<1.2.0,>=1.1.0 in /usr/local/lib/python3.6/dist-packages (from snorkel) (1.1.0)\n",
            "Requirement already satisfied: munkres==1.1.2 in /usr/local/lib/python3.6/dist-packages (from snorkel) (1.1.2)\n",
            "Requirement already satisfied: scipy<2.0.0,>=1.2.0 in /usr/local/lib/python3.6/dist-packages (from snorkel) (1.4.1)\n",
            "Requirement already satisfied: tqdm<5.0.0,>=4.33.0 in /usr/local/lib/python3.6/dist-packages (from snorkel) (4.43.0)\n",
            "Requirement already satisfied: scikit-learn<0.22.0,>=0.20.2 in /usr/local/lib/python3.6/dist-packages (from snorkel) (0.21.3)\n",
            "Requirement already satisfied: pandas<0.26.0,>=0.25.0 in /usr/local/lib/python3.6/dist-packages (from snorkel) (0.25.3)\n",
            "Requirement already satisfied: numpy<2.0.0,>=1.16.0 in /usr/local/lib/python3.6/dist-packages (from snorkel) (1.17.5)\n",
            "Requirement already satisfied: six in /usr/local/lib/python3.6/dist-packages (from tensorboardX<2.0,>=1.6->snorkel) (1.12.0)\n",
            "Requirement already satisfied: protobuf>=3.8.0 in /usr/local/lib/python3.6/dist-packages (from tensorboardX<2.0,>=1.6->snorkel) (3.10.0)\n",
            "Requirement already satisfied: decorator>=4.3.0 in /usr/local/lib/python3.6/dist-packages (from networkx<2.4,>=2.2->snorkel) (4.4.1)\n",
            "Requirement already satisfied: joblib>=0.11 in /usr/local/lib/python3.6/dist-packages (from scikit-learn<0.22.0,>=0.20.2->snorkel) (0.14.1)\n",
            "Requirement already satisfied: python-dateutil>=2.6.1 in /usr/local/lib/python3.6/dist-packages (from pandas<0.26.0,>=0.25.0->snorkel) (2.6.1)\n",
            "Requirement already satisfied: pytz>=2017.2 in /usr/local/lib/python3.6/dist-packages (from pandas<0.26.0,>=0.25.0->snorkel) (2018.9)\n",
            "Requirement already satisfied: setuptools in /usr/local/lib/python3.6/dist-packages (from protobuf>=3.8.0->tensorboardX<2.0,>=1.6->snorkel) (45.2.0)\n"
          ],
          "name": "stdout"
        }
      ]
    },
    {
      "cell_type": "code",
      "metadata": {
        "id": "aKK5RvJhBe4q",
        "colab_type": "code",
        "outputId": "3f57d05d-0a0f-4b60-b032-681510ebee97",
        "colab": {
          "base_uri": "https://localhost:8080/",
          "height": 918
        }
      },
      "source": [
        "import nltk\n",
        "nltk.download(\"popular\")\n",
        "nltk.download('vader_lexicon')\n",
        "nltk.download('brown')"
      ],
      "execution_count": 0,
      "outputs": [
        {
          "output_type": "stream",
          "text": [
            "[nltk_data] Downloading collection 'popular'\n",
            "[nltk_data]    | \n",
            "[nltk_data]    | Downloading package cmudict to /root/nltk_data...\n",
            "[nltk_data]    |   Package cmudict is already up-to-date!\n",
            "[nltk_data]    | Downloading package gazetteers to /root/nltk_data...\n",
            "[nltk_data]    |   Package gazetteers is already up-to-date!\n",
            "[nltk_data]    | Downloading package genesis to /root/nltk_data...\n",
            "[nltk_data]    |   Package genesis is already up-to-date!\n",
            "[nltk_data]    | Downloading package gutenberg to /root/nltk_data...\n",
            "[nltk_data]    |   Package gutenberg is already up-to-date!\n",
            "[nltk_data]    | Downloading package inaugural to /root/nltk_data...\n",
            "[nltk_data]    |   Package inaugural is already up-to-date!\n",
            "[nltk_data]    | Downloading package movie_reviews to\n",
            "[nltk_data]    |     /root/nltk_data...\n",
            "[nltk_data]    |   Package movie_reviews is already up-to-date!\n",
            "[nltk_data]    | Downloading package names to /root/nltk_data...\n",
            "[nltk_data]    |   Package names is already up-to-date!\n",
            "[nltk_data]    | Downloading package shakespeare to /root/nltk_data...\n",
            "[nltk_data]    |   Package shakespeare is already up-to-date!\n",
            "[nltk_data]    | Downloading package stopwords to /root/nltk_data...\n",
            "[nltk_data]    |   Package stopwords is already up-to-date!\n",
            "[nltk_data]    | Downloading package treebank to /root/nltk_data...\n",
            "[nltk_data]    |   Package treebank is already up-to-date!\n",
            "[nltk_data]    | Downloading package twitter_samples to\n",
            "[nltk_data]    |     /root/nltk_data...\n",
            "[nltk_data]    |   Package twitter_samples is already up-to-date!\n",
            "[nltk_data]    | Downloading package omw to /root/nltk_data...\n",
            "[nltk_data]    |   Package omw is already up-to-date!\n",
            "[nltk_data]    | Downloading package wordnet to /root/nltk_data...\n",
            "[nltk_data]    |   Package wordnet is already up-to-date!\n",
            "[nltk_data]    | Downloading package wordnet_ic to /root/nltk_data...\n",
            "[nltk_data]    |   Package wordnet_ic is already up-to-date!\n",
            "[nltk_data]    | Downloading package words to /root/nltk_data...\n",
            "[nltk_data]    |   Package words is already up-to-date!\n",
            "[nltk_data]    | Downloading package maxent_ne_chunker to\n",
            "[nltk_data]    |     /root/nltk_data...\n",
            "[nltk_data]    |   Package maxent_ne_chunker is already up-to-date!\n",
            "[nltk_data]    | Downloading package punkt to /root/nltk_data...\n",
            "[nltk_data]    |   Package punkt is already up-to-date!\n",
            "[nltk_data]    | Downloading package snowball_data to\n",
            "[nltk_data]    |     /root/nltk_data...\n",
            "[nltk_data]    |   Package snowball_data is already up-to-date!\n",
            "[nltk_data]    | Downloading package averaged_perceptron_tagger to\n",
            "[nltk_data]    |     /root/nltk_data...\n",
            "[nltk_data]    |   Package averaged_perceptron_tagger is already up-\n",
            "[nltk_data]    |       to-date!\n",
            "[nltk_data]    | \n",
            "[nltk_data]  Done downloading collection popular\n",
            "[nltk_data] Downloading package vader_lexicon to /root/nltk_data...\n",
            "[nltk_data]   Package vader_lexicon is already up-to-date!\n",
            "[nltk_data] Downloading package brown to /root/nltk_data...\n",
            "[nltk_data]   Package brown is already up-to-date!\n"
          ],
          "name": "stdout"
        },
        {
          "output_type": "execute_result",
          "data": {
            "text/plain": [
              "True"
            ]
          },
          "metadata": {
            "tags": []
          },
          "execution_count": 299
        }
      ]
    },
    {
      "cell_type": "code",
      "metadata": {
        "id": "fhOIES1z69GO",
        "colab_type": "code",
        "outputId": "7c1d3247-138f-438c-d11e-9de6374def35",
        "colab": {
          "base_uri": "https://localhost:8080/",
          "height": 68
        }
      },
      "source": [
        " # pyspark setup\n",
        "\n",
        "!pip install pyspark\n",
        "# Load the Drive helper and mount\n",
        "from google.colab import drive\n",
        "\n",
        "# This will prompt for authorization.\n",
        "drive.mount(\"/content/drive\")"
      ],
      "execution_count": 0,
      "outputs": [
        {
          "output_type": "stream",
          "text": [
            "Requirement already satisfied: pyspark in /usr/local/lib/python3.6/dist-packages (2.4.5)\n",
            "Requirement already satisfied: py4j==0.10.7 in /usr/local/lib/python3.6/dist-packages (from pyspark) (0.10.7)\n",
            "Drive already mounted at /content/drive; to attempt to forcibly remount, call drive.mount(\"/content/drive\", force_remount=True).\n"
          ],
          "name": "stdout"
        }
      ]
    },
    {
      "cell_type": "code",
      "metadata": {
        "id": "zHPuP-y8IAT1",
        "colab_type": "code",
        "outputId": "bfc01e2c-5650-4875-ee08-1c87ebbf8676",
        "colab": {
          "base_uri": "https://localhost:8080/",
          "height": 34
        }
      },
      "source": [
        "cd \"/content/drive/My Drive/Colab Notebooks/Data Engineering Group Project\""
      ],
      "execution_count": 0,
      "outputs": [
        {
          "output_type": "stream",
          "text": [
            "/content/drive/My Drive/Colab Notebooks/Data Engineering Group Project\n"
          ],
          "name": "stdout"
        }
      ]
    },
    {
      "cell_type": "code",
      "metadata": {
        "id": "m3eDugwl6Ae0",
        "colab_type": "code",
        "colab": {}
      },
      "source": [
        "from snorkel.labeling.apply.spark import SparkLFApplier\n",
        "from snorkel.labeling import MajorityLabelVoter\n",
        "from snorkel.labeling import labeling_function, LFAnalysis, LabelModel, PandasLFApplier\n",
        "from snorkel.preprocess import preprocessor\n",
        "from snorkel.labeling import filter_unlabeled_dataframe\n",
        "from sklearn.feature_extraction.text import CountVectorizer\n",
        "from sklearn.linear_model import LogisticRegression\n",
        "\n",
        "from nltk.corpus import stopwords\n",
        "from nltk.stem import WordNetLemmatizer\n",
        "from nltk.sentiment.vader import SentimentIntensityAnalyzer\n",
        "from nltk.tokenize import word_tokenize\n",
        "\n",
        "import nltk\n",
        "import re\n",
        "import string\n",
        "import spacy\n",
        "\n",
        "from functools import reduce\n",
        "from wordcloud import WordCloud\n",
        "from textblob import TextBlob \n",
        "import pyspark.sql.functions as f\n",
        "from textblob import TextBlob\n",
        "\n",
        "import matplotlib.pyplot as plt \n",
        "import pandas as pd\n",
        "import numpy as np\n",
        "\n",
        "from sklearn import metrics\n",
        "from sklearn.model_selection import train_test_split\n",
        "from pyspark.ml.tuning import ParamGridBuilder, TrainValidationSplit\n",
        "\n",
        "from snorkel.utils import probs_to_preds\n"
      ],
      "execution_count": 0,
      "outputs": []
    },
    {
      "cell_type": "code",
      "metadata": {
        "id": "Z4WyXelAFVKr",
        "colab_type": "code",
        "colab": {}
      },
      "source": [
        "import os \n",
        "!apt-get install openjdk-8-jdk-headless -qq > /dev/null\n",
        "\n",
        "COLAB_NOTEBOOKS_DATA_PATH=\"/content/drive/My Drive/Colab Notebooks/Data Engineering Group Project\"\n",
        "SPARK_ARCHIVE='spark-2.4.5-bin-hadoop2.7.tgz'\n",
        "if SPARK_ARCHIVE not in os.listdir(COLAB_NOTEBOOKS_DATA_PATH):\n",
        "  !wget -q https://archive.apache.org/dist/spark/spark-2.4.5/spark-2.4.5-bin-hadoop2.7.tgz\n",
        "\n",
        "SPARK_ARTIFACTS='spark-2.4.5-bin-hadoop2.7'\n",
        "if SPARK_ARTIFACTS not in os.listdir(COLAB_NOTEBOOKS_DATA_PATH):\n",
        "  !tar xf spark-2.4.5-bin-hadoop2.7.tgz\n",
        "\n",
        "!pip install -q findspark"
      ],
      "execution_count": 0,
      "outputs": []
    },
    {
      "cell_type": "code",
      "metadata": {
        "id": "PtuZl1uJFXv_",
        "colab_type": "code",
        "colab": {}
      },
      "source": [
        "os.environ[\"JAVA_HOME\"] = \"/usr/lib/jvm/java-8-openjdk-amd64\"\n",
        "os.environ[\"SPARK_HOME\"] = \"/content/drive/My Drive/Colab Notebooks/Data Engineering Group Project/spark-2.4.5-bin-hadoop2.7\""
      ],
      "execution_count": 0,
      "outputs": []
    },
    {
      "cell_type": "code",
      "metadata": {
        "id": "xK542RQE7nIc",
        "colab_type": "code",
        "colab": {}
      },
      "source": [
        "!apt-get install openjdk-8-jdk-headless -qq > /dev/null\n",
        "!wget -q https://archive.apache.org/dist/spark/spark-2.4.5/spark-2.4.5-bin-hadoop2.7.tgz\n",
        "!tar xf spark-2.4.5-bin-hadoop2.7.tgz\n",
        "!pip install -q findspark\n",
        "\n",
        "import findspark\n",
        "findspark.init()\n",
        "\n",
        "import pyspark\n",
        "from pyspark.sql import SQLContext"
      ],
      "execution_count": 0,
      "outputs": []
    },
    {
      "cell_type": "code",
      "metadata": {
        "id": "Gw-_1B8tJAU-",
        "colab_type": "code",
        "colab": {}
      },
      "source": [
        "sc = pyspark.SparkContext.getOrCreate()\n",
        "sqlContext = SQLContext(sc)"
      ],
      "execution_count": 0,
      "outputs": []
    },
    {
      "cell_type": "code",
      "metadata": {
        "id": "K9j0D3PY35dj",
        "colab_type": "code",
        "colab": {}
      },
      "source": [
        "# Load the Data\n",
        "\n",
        "# Make a subset of our dataframe using pandas and keep only the columns we need, remove rows with NaN\n",
        "# Switch this back to Spark once we figure out the CSV formatting issue\n",
        "amazon_reviews_dataset_pd_df = pd.read_csv(\"/content/drive/My Drive/Colab Notebooks/Data Engineering Group Project/Datafiniti_Amazon_Consumer_Reviews_of_Amazon_Products.csv\")\n",
        "amazon_reviews_dataset_pd_df = pd.concat([amazon_reviews_dataset_pd_df['reviews.rating'],amazon_reviews_dataset_pd_df['reviews.text']], axis=1)\n",
        "amazon_reviews_dataset_pd_df = amazon_reviews_dataset_pd_df.dropna()\n",
        "amazon_reviews_dataset_pd_df.rename(columns={\"reviews.rating\": \"reviews_rating\", \"reviews.text\": \"reviews_text\"}, inplace=True)\n",
        "amazon_reviews_dataset_pd_df\n",
        "\n",
        "# Convert pandas DF to spark dataframe\n",
        "amazon_reviews_dataset_sql_context = sqlContext.createDataFrame(amazon_reviews_dataset_pd_df)\n",
        "amazon_reviews_dataset_sql_context = amazon_reviews_dataset_sql_context.dropna(subset=[\"reviews_rating\", \"reviews_text\"])\n",
        "\n",
        "# Convert spark dataframe to RDD\n",
        "amazon_reviews_dataset_rdd = amazon_reviews_dataset_sql_context.rdd"
      ],
      "execution_count": 0,
      "outputs": []
    },
    {
      "cell_type": "code",
      "metadata": {
        "colab_type": "code",
        "id": "LNgg_4G76PvT",
        "colab": {}
      },
      "source": [
        " # Temp view for maniputing the data using SQL queries\n",
        "amazon_reviews_dataset_sql_context.createOrReplaceTempView('amazon_reviews')\n",
        "\n",
        "# Spliting the review text by review level, these will be the basis for learning information about the data that\n",
        "# can be used for creating heuristics for our labeling functions. \n",
        "\n",
        "amazon_reviews_level1 = sqlContext.sql(\"SELECT reviews_text FROM amazon_reviews where reviews_rating == 1\")\n",
        "amazon_reviews_level2 = sqlContext.sql(\"SELECT reviews_text FROM amazon_reviews where reviews_rating == 2\")\n",
        "amazon_reviews_level3 = sqlContext.sql(\"SELECT reviews_text FROM amazon_reviews where reviews_rating == 3\")\n",
        "amazon_reviews_level4 = sqlContext.sql(\"SELECT reviews_text FROM amazon_reviews where reviews_rating == 4\")\n",
        "amazon_reviews_level5 = sqlContext.sql(\"SELECT reviews_text FROM amazon_reviews where reviews_rating == 5\")"
      ],
      "execution_count": 0,
      "outputs": []
    },
    {
      "cell_type": "markdown",
      "metadata": {
        "id": "hnPw8BVS9baP",
        "colab_type": "text"
      },
      "source": [
        "Code to split the data by review level and process it to create the wordcloud \n",
        "\n",
        "https://towardsdatascience.com/natural-language-processing-in-apache-spark-using-nltk-part-2-2-5550b85f3340\n"
      ]
    },
    {
      "cell_type": "code",
      "metadata": {
        "id": "Xa29C0Pq3ZBK",
        "colab_type": "code",
        "colab": {}
      },
      "source": [
        "def findtags(tag_prefix, tagged_text):\n",
        "    cfd = nltk.ConditionalFreqDist((tag, word) for (word, tag) in tagged_text\n",
        "                                  if tag.startswith(tag_prefix))\n",
        "    return dict((tag, cfd[tag].most_common(15)) for tag in cfd.conditions())\n",
        "\n",
        "def top15_frequent_adjectives(txt):\n",
        "  tagdict = findtags('JJ', nltk.pos_tag(txt))\n",
        "  for tag in sorted(tagdict):\n",
        "    print(tag, tagdict[tag])"
      ],
      "execution_count": 0,
      "outputs": []
    },
    {
      "cell_type": "code",
      "metadata": {
        "id": "qPVvyGmbdZJd",
        "colab_type": "code",
        "outputId": "0296be1d-91f5-4bb7-96ee-282bdc5174de",
        "colab": {
          "base_uri": "https://localhost:8080/",
          "height": 105
        }
      },
      "source": [
        "print(\"Top 15 adjectives for Review Level 1\")\n",
        "txt = word_tokenize(' '.join(row.reviews_text for row in amazon_reviews_level1.select('reviews_text').collect()))\n",
        "df = top15_frequent_adjectives(txt)"
      ],
      "execution_count": 0,
      "outputs": [
        {
          "output_type": "stream",
          "text": [
            "Top 15 adjectives for Review Level 1\n",
            "JJ [('same', 10), ('old', 9), ('last', 9), ('first', 8), ('other', 7), ('good', 6), ('great', 6), ('apps', 6), ('bad', 5), ('available', 5), ('slow', 5), ('terrible', 5), ('unable', 4), ('new', 4), ('few', 4)]\n",
            "JJR [('more', 14), ('less', 6), ('larger', 4), ('Less', 2), ('smaller', 1), ('better', 1), ('Worse', 1)]\n",
            "JJS [('newest', 3), ('Best', 3), ('lowest', 2), ('biggest', 1), (\"'newest\", 1), ('hottest', 1), ('best', 1)]\n"
          ],
          "name": "stdout"
        }
      ]
    },
    {
      "cell_type": "code",
      "metadata": {
        "id": "lAylfa31kApg",
        "colab_type": "code",
        "outputId": "d7281e3d-0657-45b2-e207-27180e742afe",
        "colab": {
          "base_uri": "https://localhost:8080/",
          "height": 34
        }
      },
      "source": [
        "amazon_reviews_level1.count()"
      ],
      "execution_count": 0,
      "outputs": [
        {
          "output_type": "execute_result",
          "data": {
            "text/plain": [
              "63"
            ]
          },
          "metadata": {
            "tags": []
          },
          "execution_count": 311
        }
      ]
    },
    {
      "cell_type": "code",
      "metadata": {
        "id": "Jil0x4QNiegq",
        "colab_type": "code",
        "outputId": "32858923-f2a9-4dc4-bbcf-aa0fe2cc8f10",
        "colab": {
          "base_uri": "https://localhost:8080/",
          "height": 105
        }
      },
      "source": [
        "print(\"Top 15 adjectives for Review Level 2\")\n",
        "txt = word_tokenize(' '.join(row.reviews_text for row in amazon_reviews_level2.select('reviews_text').collect()))\n",
        "df =top15_frequent_adjectives(txt)"
      ],
      "execution_count": 0,
      "outputs": [
        {
          "output_type": "stream",
          "text": [
            "Top 15 adjectives for Review Level 2\n",
            "JJ [('great', 5), ('other', 5), ('old', 4), ('good', 4), ('dark', 3), ('little', 3), ('sure', 3), ('much', 3), ('proper', 2), ('useful', 2), ('worth', 2), ('responsive', 2), ('limited', 2), ('user', 2), ('echo', 2)]\n",
            "JJR [('better', 5), ('louder', 2), ('more', 1)]\n",
            "JJS [('best', 2), ('most', 2), ('biggest', 1), ('Most', 1)]\n"
          ],
          "name": "stdout"
        }
      ]
    },
    {
      "cell_type": "code",
      "metadata": {
        "id": "BhETYlC_kh7A",
        "colab_type": "code",
        "outputId": "edd8b0c4-6d23-41b5-ce46-c989d31b4044",
        "colab": {
          "base_uri": "https://localhost:8080/",
          "height": 34
        }
      },
      "source": [
        "amazon_reviews_level2.count()"
      ],
      "execution_count": 0,
      "outputs": [
        {
          "output_type": "execute_result",
          "data": {
            "text/plain": [
              "54"
            ]
          },
          "metadata": {
            "tags": []
          },
          "execution_count": 313
        }
      ]
    },
    {
      "cell_type": "code",
      "metadata": {
        "id": "sSMCfSoji9YX",
        "colab_type": "code",
        "outputId": "2b28b68c-41a7-4e06-a00d-c29c85eda2b3",
        "colab": {
          "base_uri": "https://localhost:8080/",
          "height": 105
        }
      },
      "source": [
        "print(\"Top 15 adjectives for Review Level 3\")\n",
        "txt = word_tokenize(' '.join(row.reviews_text for row in amazon_reviews_level3.select('reviews_text').collect()))\n",
        "df =top15_frequent_adjectives(txt)"
      ],
      "execution_count": 0,
      "outputs": [
        {
          "output_type": "stream",
          "text": [
            "Top 15 adjectives for Review Level 3\n",
            "JJ [('good', 47), ('great', 28), ('old', 19), ('ok', 15), ('other', 13), ('able', 12), ('slow', 12), ('little', 11), ('first', 11), ('small', 10), ('new', 9), ('sure', 9), ('fine', 9), ('few', 8), ('easy', 8)]\n",
            "JJR [('better', 9), ('more', 9), ('larger', 5), ('less', 3), ('higher', 3), ('easier', 2), ('older', 1), ('longer', 1), ('slower', 1), ('bigger', 1), ('harder', 1), ('prettier', 1), ('cheaper', 1), ('faster', 1)]\n",
            "JJS [('best', 11), ('most', 3), ('biggest', 3), ('latest', 2), ('priciest', 1), ('worst', 1), ('lowest', 1), ('youngest', 1)]\n"
          ],
          "name": "stdout"
        }
      ]
    },
    {
      "cell_type": "code",
      "metadata": {
        "id": "HnI3rH0rkk4y",
        "colab_type": "code",
        "outputId": "527c21f4-64af-4552-86e1-b2f3f37d81c0",
        "colab": {
          "base_uri": "https://localhost:8080/",
          "height": 34
        }
      },
      "source": [
        "amazon_reviews_level3.count()"
      ],
      "execution_count": 0,
      "outputs": [
        {
          "output_type": "execute_result",
          "data": {
            "text/plain": [
              "197"
            ]
          },
          "metadata": {
            "tags": []
          },
          "execution_count": 315
        }
      ]
    },
    {
      "cell_type": "code",
      "metadata": {
        "id": "ggvpfcZmjABY",
        "colab_type": "code",
        "outputId": "93eedd50-5d33-4431-a51a-94532666ccc8",
        "colab": {
          "base_uri": "https://localhost:8080/",
          "height": 105
        }
      },
      "source": [
        "print(\"Top 15 adjectives for Review Level 4\")\n",
        "txt = word_tokenize(' '.join(row.reviews_text for row in amazon_reviews_level4.select('reviews_text').collect()))\n",
        "df =top15_frequent_adjectives(txt)"
      ],
      "execution_count": 0,
      "outputs": [
        {
          "output_type": "stream",
          "text": [
            "Top 15 adjectives for Review Level 4\n",
            "JJ [('great', 254), ('good', 202), ('easy', 137), ('little', 97), ('old', 90), ('other', 86), ('nice', 60), ('new', 59), ('only', 58), ('able', 46), ('much', 42), ('Good', 42), ('small', 41), ('perfect', 41), ('free', 36)]\n",
            "JJR [('more', 61), ('better', 50), ('easier', 20), ('older', 13), ('bigger', 11), ('less', 10), ('cheaper', 9), ('lower', 8), ('larger', 8), ('smaller', 8), ('slower', 7), ('weather', 4), ('earlier', 3), ('louder', 3), ('Better', 3)]\n",
            "JJS [('best', 31), ('most', 21), ('Most', 8), ('biggest', 5), ('least', 4), ('Best', 4), ('latest', 3), ('highest', 3), ('smallest', 2), ('lightest', 2), ('guest', 2), ('greatest', 1), ('cheapest', 1), ('lowest', 1), ('brightest', 1)]\n"
          ],
          "name": "stdout"
        }
      ]
    },
    {
      "cell_type": "code",
      "metadata": {
        "id": "RcKOlMhfkmyX",
        "colab_type": "code",
        "outputId": "074a4ff5-9fc6-43a0-e464-4e5b95bdb771",
        "colab": {
          "base_uri": "https://localhost:8080/",
          "height": 34
        }
      },
      "source": [
        "amazon_reviews_level4.count()"
      ],
      "execution_count": 0,
      "outputs": [
        {
          "output_type": "execute_result",
          "data": {
            "text/plain": [
              "1208"
            ]
          },
          "metadata": {
            "tags": []
          },
          "execution_count": 317
        }
      ]
    },
    {
      "cell_type": "code",
      "metadata": {
        "id": "cvhMNHxwjDYg",
        "colab_type": "code",
        "outputId": "b4ce5171-3e6d-4710-d5fd-01c54b5a643c",
        "colab": {
          "base_uri": "https://localhost:8080/",
          "height": 105
        }
      },
      "source": [
        "print(\"Top 15 adjectives for Review Level 5\")\n",
        "txt = word_tokenize(' '.join(row.reviews_text for row in amazon_reviews_level5.select('reviews_text').collect()))\n",
        "df =top15_frequent_adjectives(txt)"
      ],
      "execution_count": 0,
      "outputs": [
        {
          "output_type": "stream",
          "text": [
            "Top 15 adjectives for Review Level 5\n",
            "JJ [('great', 804), ('easy', 427), ('old', 292), ('good', 285), ('other', 187), ('new', 179), ('able', 155), ('perfect', 143), ('much', 137), ('nice', 116), ('happy', 114), ('many', 113), ('smart', 101), ('first', 89), ('little', 89)]\n",
            "JJR [('more', 188), ('better', 109), ('older', 61), ('easier', 58), ('larger', 33), ('smaller', 27), ('bigger', 25), ('less', 20), ('lighter', 15), ('cheaper', 15), ('lower', 11), ('faster', 11), ('newer', 10), ('happier', 9), ('higher', 8)]\n",
            "JJS [('best', 152), ('most', 33), ('Best', 24), ('least', 12), ('latest', 10), ('youngest', 6), ('greatest', 5), ('honest', 5), ('nest', 4), ('Most', 3), ('fastest', 2), ('oldest', 2), ('biggest', 2), ('simplest', 2), ('longest', 2)]\n"
          ],
          "name": "stdout"
        }
      ]
    },
    {
      "cell_type": "code",
      "metadata": {
        "id": "U-7YzC1Tkooa",
        "colab_type": "code",
        "outputId": "2b359e14-082c-4d3e-89e2-26d451d067ef",
        "colab": {
          "base_uri": "https://localhost:8080/",
          "height": 34
        }
      },
      "source": [
        "amazon_reviews_level5.count()"
      ],
      "execution_count": 0,
      "outputs": [
        {
          "output_type": "execute_result",
          "data": {
            "text/plain": [
              "3478"
            ]
          },
          "metadata": {
            "tags": []
          },
          "execution_count": 319
        }
      ]
    },
    {
      "cell_type": "code",
      "metadata": {
        "id": "ykl4Po1tjf5l",
        "colab_type": "code",
        "colab": {}
      },
      "source": [
        "# Train/Test Split - 80/20 \n",
        "df_train, df_test = amazon_reviews_dataset_rdd.randomSplit([0.8, 0.2], seed=42)\n",
        "\n",
        "# Code to convert our y_test values into positive/negative and neutral and convert it to series, as input for the accuracy comparision later.\n",
        "Y_test = df_test.toDF()\n",
        "Y_test = Y_test.toPandas()\n",
        "\n",
        "Y_test.loc[Y_test['reviews_rating'] == 1, 'reviews_rating'] = 0\n",
        "Y_test.loc[Y_test['reviews_rating'] == 2, 'reviews_rating'] = 0\n",
        "Y_test.loc[Y_test['reviews_rating'] == 3, 'reviews_rating'] = 2\n",
        "Y_test.loc[Y_test['reviews_rating'] == 4, 'reviews_rating'] = 1\n",
        "Y_test.loc[Y_test['reviews_rating'] == 5, 'reviews_rating'] = 1\n",
        "\n",
        "Y_test = Y_test['reviews_rating']"
      ],
      "execution_count": 0,
      "outputs": []
    },
    {
      "cell_type": "markdown",
      "metadata": {
        "id": "VEtxxMSBdPwF",
        "colab_type": "text"
      },
      "source": [
        "## 2. Writing Labeling Functions (LFs)"
      ]
    },
    {
      "cell_type": "markdown",
      "metadata": {
        "id": "fEe07rua6Xx4",
        "colab_type": "text"
      },
      "source": [
        "We define constants to represent the class labels for: \n",
        "\n",
        "- Rating one = 0\n",
        "- Rating two = 1 \n",
        "- Rating three = 2\n",
        "- Rating four = 3\n",
        "- Rating five = 4\n",
        "- Abstain: -1"
      ]
    },
    {
      "cell_type": "code",
      "metadata": {
        "id": "hmvhw7Sq6Sd2",
        "colab_type": "code",
        "colab": {}
      },
      "source": [
        "# Set voting values\n",
        "\n",
        "NEGATIVE = 0\n",
        "POSITIVE = 1\n",
        "NEUTRAL = 2\n",
        "\n",
        "ABSTAIN = -1"
      ],
      "execution_count": 0,
      "outputs": []
    },
    {
      "cell_type": "markdown",
      "metadata": {
        "id": "oKgm4AYq9JoZ",
        "colab_type": "text"
      },
      "source": [
        "The first set of labelling functions to classfy based of the presence of some "
      ]
    },
    {
      "cell_type": "markdown",
      "metadata": {
        "colab_type": "text",
        "id": "ZzF4NAq6DZK2"
      },
      "source": [
        ""
      ]
    },
    {
      "cell_type": "code",
      "metadata": {
        "id": "bweWoy1H8nyZ",
        "colab_type": "code",
        "colab": {}
      },
      "source": [
        "ReviewNEGATIVE =  r\"(same|old|bad|slow|terrible|unable|few|worse|less|worse|limited)\"\n",
        "\n",
        "# Top 15 adjectives for Review Level 1\n",
        "# JJ [('same', 10), ('old', 9), ('last', 9), ('first', 8), ('other', 7), ('good', 6), ('great', 6), ('apps', 6), ('bad', 5), ('available', 5), ('slow', 5), ('terrible', 5), ('unable', 4), ('new', 4), ('few', 4)]\n",
        "# JJR [('more', 14), ('less', 6), ('larger', 4), ('Less', 2), ('smaller', 1), ('better', 1), ('Worse', 1)]\n",
        "# JJS [('newest', 3), ('Best', 3), ('lowest', 2), ('biggest', 1), (\"'newest\", 1), ('hottest', 1), ('best', 1)]\n",
        "# 63 Rows in DF\n",
        "\n",
        "# Top 15 adjectives for Review Level 2\n",
        "# JJ [('great', 5), ('other', 5), ('old', 4), ('good', 4), ('dark', 3), ('little', 3), ('sure', 3), ('much', 3), ('proper', 2), ('useful', 2), ('worth', 2), ('responsive', 2), ('limited', 2), ('user', 2), ('echo', 2)]\n",
        "# JJR [('better', 5), ('louder', 2), ('more', 1)]\n",
        "# JJS [('best', 2), ('most', 2), ('biggest', 1), ('Most', 1)]\n",
        "# 54 Rows in DF\n",
        "\n",
        "ReviewNEUTRAL = r\"(ok|fine)\" \n",
        "\n",
        "# Top 15 adjectives for Review Level 3\n",
        "# JJ [('good', 47), ('great', 28), ('old', 19), ('ok', 15), ('other', 13), ('able', 12), ('slow', 12), ('little', 11), ('first', 11), ('small', 10), ('new', 9), ('sure', 9), ('fine', 9), ('few', 8), ('easy', 8)]\n",
        "# JJR [('better', 9), ('more', 9), ('larger', 5), ('less', 3), ('higher', 3), ('easier', 2), ('older', 1), ('longer', 1), ('slower', 1), ('bigger', 1), ('harder', 1), ('prettier', 1), ('cheaper', 1), ('faster', 1)]\n",
        "# JJS [('best', 11), ('most', 3), ('biggest', 3), ('latest', 2), ('priciest', 1), ('worst', 1), ('lowest', 1), ('youngest', 1)]\n",
        "# 197 Rows in DF\n",
        "\n",
        "ReviewPOSITIVE = r\"(great|good|easy|reliable|nice|new|perfect|better|happy)\" \n",
        "\n",
        "# Top 15 adjectives for Review Level 4\n",
        "# JJ [('great', 254), ('good', 202), ('easy', 137), ('little', 97), ('old', 90), ('other', 86), ('nice', 60), ('new', 59), ('only', 58), ('able', 46), ('much', 42), ('Good', 42), ('small', 41), ('perfect', 41), ('free', 36)]\n",
        "# JJR [('more', 61), ('better', 50), ('easier', 20), ('older', 13), ('bigger', 11), ('less', 10), ('cheaper', 9), ('lower', 8), ('larger', 8), ('smaller', 8), ('slower', 7), ('weather', 4), ('earlier', 3), ('louder', 3), ('Better', 3)]\n",
        "# JJS [('best', 31), ('most', 21), ('Most', 8), ('biggest', 5), ('least', 4), ('Best', 4), ('latest', 3), ('highest', 3), ('smallest', 2), ('lightest', 2), ('guest', 2), ('greatest', 1), ('cheapest', 1), ('lowest', 1), ('brightest', 1)]\n",
        "# 1208 Rows in DF\n",
        "\n",
        "# Top 15 adjectives for Review Level 5\n",
        "# JJ [('great', 804), ('easy', 427), ('old', 292), ('good', 285), ('other', 187), ('new', 179), ('able', 155), ('perfect', 143), ('much', 137), ('nice', 116), ('happy', 114), ('many', 113), ('smart', 101), ('first', 89), ('little', 89)]\n",
        "# JJR [('more', 188), ('better', 109), ('older', 61), ('easier', 58), ('larger', 33), ('smaller', 27), ('bigger', 25), ('less', 20), ('lighter', 15), ('cheaper', 15), ('lower', 11), ('faster', 11), ('newer', 10), ('happier', 9), ('higher', 8)]\n",
        "# JJS [('best', 152), ('most', 33), ('Best', 24), ('least', 12), ('latest', 10), ('youngest', 6), ('greatest', 5), ('honest', 5), ('nest', 4), ('Most', 3), ('fastest', 2), ('oldest', 2), ('biggest', 2), ('simplest', 2), ('longest', 2)]\n",
        "# 3478 Rows in DF"
      ],
      "execution_count": 0,
      "outputs": []
    },
    {
      "cell_type": "code",
      "metadata": {
        "id": "quBC7a06tIFf",
        "colab_type": "code",
        "colab": {}
      },
      "source": [
        "# labelling functions based off specific words\n",
        "@labeling_function()\n",
        "def review_NEGATIVE(x):\n",
        "      return NEGATIVE if re.search(ReviewNEGATIVE, x.reviews_text.lower()) else ABSTAIN\n",
        "\n",
        "@labeling_function()\n",
        "def review_NEUTRAL(x):\n",
        "    return NEUTRAL if re.search(ReviewNEUTRAL, x.reviews_text.lower()) else ABSTAIN\n",
        "\n",
        "@labeling_function()\n",
        "def review_POSITIVE(x):\n",
        "    return POSITIVE if re.search(ReviewPOSITIVE, x.reviews_text.lower()) else ABSTAIN"
      ],
      "execution_count": 0,
      "outputs": []
    },
    {
      "cell_type": "markdown",
      "metadata": {
        "id": "z8hx_87Ryv4k",
        "colab_type": "text"
      },
      "source": [
        "The next heuristic that we are looking at is the number of word that the unhappy customers write to understand if there is a significant difference \n",
        "between our five rating levels."
      ]
    },
    {
      "cell_type": "code",
      "metadata": {
        "id": "XDmWUVqjnP5k",
        "colab_type": "code",
        "colab": {}
      },
      "source": [
        "def get_avg_wordcount(DF):\n",
        "  df = DF.withColumn('wordCount', f.size(f.split(f.col('reviews_text'), ' ')))\n",
        "\n",
        "  totalwords = df.groupBy().sum().collect()[0][0]\n",
        "  colcount = DF.count()\n",
        "\n",
        "  avgwordcount = totalwords/colcount\n",
        "\n",
        "  return avgwordcount"
      ],
      "execution_count": 0,
      "outputs": []
    },
    {
      "cell_type": "code",
      "metadata": {
        "id": "Tq-l6xsZzMFC",
        "colab_type": "code",
        "outputId": "2e36d460-f563-4be7-9f18-4f7df1d25b2c",
        "colab": {
          "base_uri": "https://localhost:8080/",
          "height": 282
        }
      },
      "source": [
        "pandD = pd.DataFrame(data = [get_avg_wordcount(amazon_reviews_level1),\n",
        "                             get_avg_wordcount(amazon_reviews_level2),\n",
        "                             get_avg_wordcount(amazon_reviews_level3),\n",
        "                             get_avg_wordcount(amazon_reviews_level4),\n",
        "                             get_avg_wordcount(amazon_reviews_level5)], columns=['Average Word Count'], index=['1 Star Reviews',\n",
        "                                                                                                              '2 Star Reviews',\n",
        "                                                                                                              '3 Star Reviews',\n",
        "                                                                                                              '4 Star Reviews',\n",
        "                                                                                                              '5 Star Reviews'])\n",
        "                             \n",
        "pandD.plot.barh(figsize=(20,4))"
      ],
      "execution_count": 0,
      "outputs": [
        {
          "output_type": "execute_result",
          "data": {
            "text/plain": [
              "<matplotlib.axes._subplots.AxesSubplot at 0x7f2fb1b592b0>"
            ]
          },
          "metadata": {
            "tags": []
          },
          "execution_count": 749
        },
        {
          "output_type": "display_data",
          "data": {
            "image/png": "[encoded data removed]",
            "text/plain": [
              "<Figure size 1440x288 with 1 Axes>"
            ]
          },
          "metadata": {
            "tags": []
          }
        }
      ]
    },
    {
      "cell_type": "markdown",
      "metadata": {
        "id": "d_ClPzPByRKn",
        "colab_type": "text"
      },
      "source": [
        "The clearest trend is that very unhappy customrs tend to write very long reviews and the happiest customers the shortest. "
      ]
    },
    {
      "cell_type": "code",
      "metadata": {
        "id": "Qs8XxpIVwqJa",
        "colab_type": "code",
        "colab": {}
      },
      "source": [
        "@labeling_function()\n",
        "def pos_string_length(x):\n",
        "  return POSITIVE if len(x.reviews_text.split()) <= 30 else ABSTAIN"
      ],
      "execution_count": 0,
      "outputs": []
    },
    {
      "cell_type": "code",
      "metadata": {
        "id": "1zeKr0VfWfTV",
        "colab_type": "code",
        "colab": {}
      },
      "source": [
        "@labeling_function()\n",
        "def neg_string_length(x):\n",
        "  return NEGATIVE if len(x.reviews_text.split()) >= 40 else ABSTAIN"
      ],
      "execution_count": 0,
      "outputs": []
    },
    {
      "cell_type": "code",
      "metadata": {
        "id": "l2T1avrdGU57",
        "colab_type": "code",
        "colab": {}
      },
      "source": [
        "def getSentiment(text):\n",
        "    x = {}\n",
        "    x[\"polarity\"] = TextBlob(text).sentiment.polarity\n",
        "    x[\"subjectivity\"] = TextBlob(text).sentiment.subjectivity \n",
        "    return x"
      ],
      "execution_count": 0,
      "outputs": []
    },
    {
      "cell_type": "code",
      "metadata": {
        "id": "CpKZLCCH_Bsh",
        "colab_type": "code",
        "colab": {}
      },
      "source": [
        "@labeling_function()\n",
        "def textblob_polarity(x):\n",
        "    x = getSentiment(x.reviews_text)\n",
        "\n",
        "    if x[\"polarity\"] >= 0.2:\n",
        "      return POSITIVE \n",
        "    if x[\"polarity\"] >= -0.2:\n",
        "      return NEUTRAL\n",
        "    if x[\"polarity\"] < -0.2:\n",
        "      return NEGATIVE\n",
        "    else:\n",
        "      return ABSTAIN"
      ],
      "execution_count": 0,
      "outputs": []
    },
    {
      "cell_type": "markdown",
      "metadata": {
        "id": "KtLrftqKZvVq",
        "colab_type": "text"
      },
      "source": [
        "## 3. Labelling, Analysis and Accuracy"
      ]
    },
    {
      "cell_type": "code",
      "metadata": {
        "id": "7Ax1XLGMHljJ",
        "colab_type": "code",
        "colab": {}
      },
      "source": [
        "# Kept the the combination of lablling functions that give us the best accuracy score\n",
        "labelingfunctions = [review_NEUTRAL, review_POSITIVE, textblob_polarity, pos_string_length]"
      ],
      "execution_count": 0,
      "outputs": []
    },
    {
      "cell_type": "code",
      "metadata": {
        "id": "WUomMy74DpzW",
        "colab_type": "code",
        "colab": {}
      },
      "source": [
        "applier = SparkLFApplier(lfs=labelingfunctions)\n",
        "\n",
        "L_train = applier.apply(data_points=df_train)\n",
        "L_test = applier.apply(data_points=df_test)"
      ],
      "execution_count": 0,
      "outputs": []
    },
    {
      "cell_type": "markdown",
      "metadata": {
        "id": "De_CLPAseRZR",
        "colab_type": "text"
      },
      "source": [
        "Need to write somethign here about the decision process on how we dealt with conflicts and overlaps"
      ]
    },
    {
      "cell_type": "code",
      "metadata": {
        "id": "Lv8mp5ScHg5_",
        "colab_type": "code",
        "outputId": "b7e73874-5af5-42fc-a8b9-d3f8542567e0",
        "colab": {
          "base_uri": "https://localhost:8080/",
          "height": 142
        }
      },
      "source": [
        "LFAnalysis(L=L_train, lfs=labelingfunctions).lf_summary()"
      ],
      "execution_count": 0,
      "outputs": [
        {
          "output_type": "execute_result",
          "data": {
            "text/html": [
              "<div>\n",
              "<style scoped>\n",
              "    .dataframe tbody tr th:only-of-type {\n",
              "        vertical-align: middle;\n",
              "    }\n",
              "\n",
              "    .dataframe tbody tr th {\n",
              "        vertical-align: top;\n",
              "    }\n",
              "\n",
              "    .dataframe thead th {\n",
              "        text-align: right;\n",
              "    }\n",
              "</style>\n",
              "<table border=\"1\" class=\"dataframe\">\n",
              "  <thead>\n",
              "    <tr style=\"text-align: right;\">\n",
              "      <th></th>\n",
              "      <th>j</th>\n",
              "      <th>Polarity</th>\n",
              "      <th>Coverage</th>\n",
              "      <th>Overlaps</th>\n",
              "      <th>Conflicts</th>\n",
              "    </tr>\n",
              "  </thead>\n",
              "  <tbody>\n",
              "    <tr>\n",
              "      <th>review_POSITIVE</th>\n",
              "      <td>0</td>\n",
              "      <td>[1]</td>\n",
              "      <td>0.603210</td>\n",
              "      <td>0.603210</td>\n",
              "      <td>0.072235</td>\n",
              "    </tr>\n",
              "    <tr>\n",
              "      <th>textblob_polarity</th>\n",
              "      <td>1</td>\n",
              "      <td>[0, 1, 2]</td>\n",
              "      <td>1.000000</td>\n",
              "      <td>0.900928</td>\n",
              "      <td>0.198395</td>\n",
              "    </tr>\n",
              "    <tr>\n",
              "      <th>pos_string_length</th>\n",
              "      <td>2</td>\n",
              "      <td>[1]</td>\n",
              "      <td>0.697015</td>\n",
              "      <td>0.697015</td>\n",
              "      <td>0.151492</td>\n",
              "    </tr>\n",
              "  </tbody>\n",
              "</table>\n",
              "</div>"
            ],
            "text/plain": [
              "                   j   Polarity  Coverage  Overlaps  Conflicts\n",
              "review_POSITIVE    0        [1]  0.603210  0.603210   0.072235\n",
              "textblob_polarity  1  [0, 1, 2]  1.000000  0.900928   0.198395\n",
              "pos_string_length  2        [1]  0.697015  0.697015   0.151492"
            ]
          },
          "metadata": {
            "tags": []
          },
          "execution_count": 756
        }
      ]
    },
    {
      "cell_type": "code",
      "metadata": {
        "id": "x-l8twzoHphb",
        "colab_type": "code",
        "colab": {}
      },
      "source": [
        "majority_model = MajorityLabelVoter(cardinality=5)\n",
        "preds_train = majority_model.predict(L=L_train)"
      ],
      "execution_count": 0,
      "outputs": []
    },
    {
      "cell_type": "code",
      "metadata": {
        "id": "OBqdihSx0Ds1",
        "colab_type": "code",
        "colab": {}
      },
      "source": [
        "label_model = LabelModel(cardinality=5, verbose=True)\n",
        "label_model.fit(L_train=L_train, n_epochs=500, log_freq=100, seed=123)"
      ],
      "execution_count": 0,
      "outputs": []
    },
    {
      "cell_type": "code",
      "metadata": {
        "id": "9-_HLHWChXGi",
        "colab_type": "code",
        "colab": {}
      },
      "source": [
        "def plot_probabilities_histogram(Y):\n",
        "    plt.hist(Y, bins=10)\n",
        "    plt.xlabel(\"TBC\")\n",
        "    plt.ylabel(\"Number of data points\")\n",
        "    plt.show()\n",
        "\n",
        "\n",
        "probs_train = label_model.predict_proba(L=L_train)\n",
        "# plot_probabilities_histogram(probs_train[:, POSITIVE])\n",
        "# plot_probabilities_histogram(probs_train[:, NEGATIVE])\n",
        "# plot_probabilities_histogram(probs_train[:, NEUTRAL])"
      ],
      "execution_count": 0,
      "outputs": []
    },
    {
      "cell_type": "code",
      "metadata": {
        "id": "maGGXyYj0Mx6",
        "colab_type": "code",
        "outputId": "b9af969a-11e7-49be-a0c9-e45e9fc97ce9",
        "colab": {
          "base_uri": "https://localhost:8080/",
          "height": 51
        }
      },
      "source": [
        "majority_acc = majority_model.score(L=L_test, Y=Y_test, tie_break_policy=\"random\")[\n",
        "    \"accuracy\"\n",
        "]\n",
        "print(f\"{'Majority Vote Accuracy:':<25} {majority_acc * 100:.1f}%\")\n",
        "\n",
        "label_model_acc = label_model.score(L=L_test, Y=Y_test, tie_break_policy=\"random\")[\n",
        "    \"accuracy\"\n",
        "]\n",
        "print(f\"{'Label Model Accuracy:':<25} {label_model_acc * 100:.1f}%\")"
      ],
      "execution_count": 0,
      "outputs": [
        {
          "output_type": "stream",
          "text": [
            "Majority Vote Accuracy:   83.6%\n",
            "Label Model Accuracy:     75.0%\n"
          ],
          "name": "stdout"
        }
      ]
    },
    {
      "cell_type": "code",
      "metadata": {
        "id": "wO_b3h1e0XAv",
        "colab_type": "code",
        "colab": {}
      },
      "source": [
        "# Convert the df_train to Pandas to get the code below working and to prep for training the model\n",
        "\n",
        "df_train = df_train.toDF()\n",
        "df_train = df_train.toPandas()\n",
        "\n",
        "df_test = df_test.toDF()\n",
        "df_test = df_test.toPandas()\n",
        "\n",
        "df_train_filtered, probs_train_filtered = filter_unlabeled_dataframe(X=df_train, y=probs_train, L=L_train)"
      ],
      "execution_count": 0,
      "outputs": []
    },
    {
      "cell_type": "markdown",
      "metadata": {
        "id": "rTL5wg4vkvDx",
        "colab_type": "text"
      },
      "source": [
        "## 4. Training a Classifier"
      ]
    },
    {
      "cell_type": "code",
      "metadata": {
        "id": "QsKe8mulpdmi",
        "colab_type": "code",
        "colab": {}
      },
      "source": [
        "from pyspark.mllib.classification import NaiveBayes, NaiveBayesModel\n",
        "from pyspark.mllib.util import MLUtils\n",
        "# print(df_train)"
      ],
      "execution_count": 0,
      "outputs": []
    },
    {
      "cell_type": "code",
      "metadata": {
        "id": "wpAcTd8UkwJB",
        "colab_type": "code",
        "colab": {}
      },
      "source": [
        "vectorizer = CountVectorizer(ngram_range=(1, 5))\n",
        "X_train = vectorizer.fit_transform(df_train_filtered.reviews_text.tolist())\n",
        "X_test = vectorizer.transform(df_test.reviews_text.tolist())"
      ],
      "execution_count": 0,
      "outputs": []
    },
    {
      "cell_type": "code",
      "metadata": {
        "id": "69v-1Tu0mBUK",
        "colab_type": "code",
        "colab": {}
      },
      "source": [
        "preds_train_filtered = probs_to_preds(probs=probs_train_filtered)"
      ],
      "execution_count": 0,
      "outputs": []
    },
    {
      "cell_type": "code",
      "metadata": {
        "id": "wMZW4b4TmMYK",
        "colab_type": "code",
        "outputId": "a31d0425-3654-460c-de33-53b1a9f9899a",
        "colab": {
          "base_uri": "https://localhost:8080/",
          "height": 34
        }
      },
      "source": [
        "sklearn_model = MultinomialNB()\n",
        "sklearn_model.fit(X=X_train, y=preds_train_filtered)"
      ],
      "execution_count": 0,
      "outputs": [
        {
          "output_type": "execute_result",
          "data": {
            "text/plain": [
              "MultinomialNB(alpha=1.0, class_prior=None, fit_prior=True)"
            ]
          },
          "metadata": {
            "tags": []
          },
          "execution_count": 765
        }
      ]
    },
    {
      "cell_type": "code",
      "metadata": {
        "id": "QyUnaPo-l-aW",
        "colab_type": "code",
        "outputId": "636976e7-bf40-4b14-bca9-f4f2dcb78eed",
        "colab": {
          "base_uri": "https://localhost:8080/",
          "height": 34
        }
      },
      "source": [
        "print(f\"Test Accuracy: {sklearn_model.score(X=X_test, y=Y_test) * 100:.1f}%\")"
      ],
      "execution_count": 0,
      "outputs": [
        {
          "output_type": "stream",
          "text": [
            "Test Accuracy: 90.0%\n"
          ],
          "name": "stdout"
        }
      ]
    },
    {
      "cell_type": "markdown",
      "metadata": {
        "id": "d6Gh6PgMv2w-",
        "colab_type": "text"
      },
      "source": [
        "https://spark.apache.org/docs/2.2.0/mllib-naive-bayes.html"
      ]
    },
    {
      "cell_type": "markdown",
      "metadata": {
        "id": "RXTR3edEcwRQ",
        "colab_type": "text"
      },
      "source": [
        "References \n",
        "\n",
        "https://www.snorkel.org/use-cases/01-spam-tutorial\n",
        "\n",
        "https://adataanalyst.com/spark/building-word-count-application-spark/\n",
        "\n"
      ]
    }
  ]
}